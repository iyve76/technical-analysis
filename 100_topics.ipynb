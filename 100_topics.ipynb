{
 "cells": [
  {
   "cell_type": "markdown",
   "id": "499d7b3a",
   "metadata": {},
   "source": [
    "### Topics\n",
    "\n",
    "\n",
    "#### Chapter 1\n",
    "- Read stock data: Hari ji\n",
    "    - Different method\n",
    "    - from csv\n",
    "    - from website\n",
    "    - from database: Jitesh, Parmeshwar\n",
    "- Zerodha: Ashish ji\n",
    "- Other platform: Ashish ji\n",
    "- Stock platform: Ashish ji and Abhisek ji\n",
    "- Option plateform: Abhisek ji\n",
    "\n",
    "#### Chapter 2\n",
    "- Moving window: hari ji\n",
    "- Moving average: hari ji\n",
    "#### Chapter 3\n",
    "- Moving  average indicators: hari ji\n",
    "#### Chapter 4\n",
    "- RSI: Ashish ji\n",
    "#### Chapter 5\n",
    "- ROC: Parmeshwar\n",
    "#### Chapter 6\n",
    "- Bollinger band: Jitesh ji\n",
    "#### Chapter 7\n",
    "- Combined indicator: Hari ji\n",
    "#### Chapter 8\n",
    "- Transforming data for machine learning: Hari ji\n",
    "#### Chapter 9\n",
    "- Performance metric\n",
    "#### Chapter 10\n",
    "- Parameters optimization\n",
    "- Macd\n",
    "- Rsi\n",
    "- Roc\n",
    "- Bollinger band\n",
    "- Stochastic\n",
    "#### Chapter 11\n",
    "- Back testing\n",
    "#### Chapter 13\n",
    "- Bitcoin based strategy\n",
    "#### Chapter 14\n",
    "- Future\n",
    "#### Chapter 15\n",
    "- Option\n",
    "- Call\n",
    "- Put\n",
    "- Put call pairty\n",
    "#### Chapter 17\n",
    "- Option strategy\n",
    "- Straddle\n",
    "- Strangle\n",
    "#### Chapter 20\n",
    "- Statistical arbitrage\n",
    "- Cointegration\n",
    "- Correlation"
   ]
  },
  {
   "cell_type": "code",
   "execution_count": null,
   "id": "3ef67d43",
   "metadata": {},
   "outputs": [],
   "source": []
  }
 ],
 "metadata": {
  "kernelspec": {
   "display_name": "Python 3 (ipykernel)",
   "language": "python",
   "name": "python3"
  },
  "language_info": {
   "codemirror_mode": {
    "name": "ipython",
    "version": 3
   },
   "file_extension": ".py",
   "mimetype": "text/x-python",
   "name": "python",
   "nbconvert_exporter": "python",
   "pygments_lexer": "ipython3",
   "version": "3.9.7"
  }
 },
 "nbformat": 4,
 "nbformat_minor": 5
}
